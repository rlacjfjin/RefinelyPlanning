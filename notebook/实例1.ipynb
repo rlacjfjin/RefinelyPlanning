{
 "cells": [
  {
   "cell_type": "code",
   "execution_count": 1,
   "id": "935114e0",
   "metadata": {},
   "outputs": [],
   "source": [
    "import json\n",
    "import sys\n",
    "sys.path.append(\"../\")\n",
    "from data import RefineryData\n",
    "from model import Planning\n",
    "import pandas as pd"
   ]
  },
  {
   "cell_type": "code",
   "execution_count": 2,
   "id": "5695355e",
   "metadata": {},
   "outputs": [],
   "source": [
    "filename = \"../examples/ex_2_1.json\""
   ]
  },
  {
   "cell_type": "code",
   "execution_count": 3,
   "id": "f9b32b08",
   "metadata": {},
   "outputs": [],
   "source": [
    "with open(filename, \"r\") as file:\n",
    "    data = json.load(file)"
   ]
  },
  {
   "cell_type": "code",
   "execution_count": 4,
   "id": "f19c72d7",
   "metadata": {},
   "outputs": [],
   "source": [
    "ex_data = RefineryData(**data)"
   ]
  },
  {
   "cell_type": "code",
   "execution_count": 5,
   "id": "2fc55227",
   "metadata": {},
   "outputs": [
    {
     "data": {
      "text/plain": [
       "RefineryData(I=['CM1', 'CM2', 'CM3', 'CM4', 'CM5', 'CM6'], J=['G90', 'G93', 'G97'], K=['SUL', 'RON', 'DON', 'ARW', 'OLE'], Q={'CM1': {'SUL': 0.04, 'RON': 89.5, 'DON': 84.25, 'ARW': 12.7, 'OLE': 39.2}, 'CM2': {'SUL': 0.04, 'RON': 93.2, 'DON': 87.1, 'ARW': 21.4, 'OLE': 32.4}, 'CM3': {'SUL': 0.04, 'RON': 89.8, 'DON': 84.9, 'ARW': 13, 'OLE': 39}, 'CM4': {'SUL': 0.001, 'RON': 54.8, 'DON': 50, 'ARW': 0.05, 'OLE': 0}, 'CM5': {'SUL': 0.001, 'RON': 98.5, 'DON': 93, 'ARW': 70, 'OLE': 0}, 'CM6': {'SUL': 0.001, 'RON': 114, 'DON': 107, 'ARW': 0, 'OLE': 0}}, Pmin={'G90': {'SUL': 0, 'RON': 90.1, 'DON': 85.1, 'OLE': 0, 'ARW': 0}, 'G93': {'SUL': 0, 'RON': 93.1, 'DON': 88.1, 'OLE': 0, 'ARW': 0}, 'G97': {'SUL': 0, 'RON': 97.1, 'DON': 92.1, 'OLE': 0, 'ARW': 0}}, Pmax={'G90': {'SUL': 0.07, 'RON': 999, 'DON': 999, 'OLE': 34, 'ARW': 40}, 'G93': {'SUL': 0.07, 'RON': 999, 'DON': 999, 'OLE': 34, 'ARW': 40}, 'G97': {'SUL': 0.07, 'RON': 999, 'DON': 999, 'OLE': 34, 'ARW': 40}}, LX={'CM1': 2.835, 'CM2': 2.205, 'CM3': 4.305, 'CM4': 0, 'CM5': 0, 'CM6': 0}, UX={'CM1': 2.835, 'CM2': 2.205, 'CM3': 4.305, 'CM4': 0.9, 'CM5': 5.4, 'CM6': 0.45}, LY={'G90': 8, 'G93': 6, 'G97': 1}, UY={'G90': 1000, 'G93': 1000, 'G97': 1000}, C={'CM1': 2356.3, 'CM2': 2396.1, 'CM3': 2347.2, 'CM4': 2470.8, 'CM5': 2513.8, 'CM6': 3500}, Price={'G90': 3140, 'G93': 3328, 'G97': 3517})"
      ]
     },
     "execution_count": 5,
     "metadata": {},
     "output_type": "execute_result"
    }
   ],
   "source": [
    "ex_data"
   ]
  },
  {
   "cell_type": "code",
   "execution_count": 6,
   "id": "0fe0b4f5",
   "metadata": {},
   "outputs": [],
   "source": [
    "ex_model = Planning(ex_data)"
   ]
  },
  {
   "cell_type": "code",
   "execution_count": 7,
   "id": "9e946ea9",
   "metadata": {
    "scrolled": true
   },
   "outputs": [],
   "source": [
    "results = ex_model.solve()"
   ]
  },
  {
   "cell_type": "code",
   "execution_count": 8,
   "id": "614c6afc",
   "metadata": {},
   "outputs": [
    {
     "name": "stdout",
     "output_type": "stream",
     "text": [
      "目标值: 12751.23558551069\n",
      "调合配方：\n",
      "          G90       G93       G97\n",
      "CM1       0.0  2.205703  0.629297\n",
      "CM2     2.205       0.0       0.0\n",
      "CM3  3.827387  0.477613       0.0\n",
      "CM4  0.446248  0.201953       0.0\n",
      "CM5  1.521365   2.93955  0.939085\n",
      "CM6       0.0  0.175181  0.274819\n",
      "产品物性\n",
      "           G90        G93        G97\n",
      "SUL   0.030408   0.018442   0.014315\n",
      "RON  90.439274  93.480569  97.738294\n",
      "DON       85.1       88.1       92.1\n",
      "ARW   25.43261       40.0       40.0\n",
      "OLE  27.588763  17.515078  13.383474\n"
     ]
    }
   ],
   "source": [
    "print(\"目标值:\", results[\"目标值\"])\n",
    "print(\"调合配方：\")\n",
    "print(results[\"调合配方\"])\n",
    "print(\"产品物性\")\n",
    "print(results[\"产品物性\"])"
   ]
  },
  {
   "cell_type": "markdown",
   "id": "acbc31cc",
   "metadata": {},
   "source": [
    "#### 结果分析"
   ]
  },
  {
   "cell_type": "markdown",
   "id": "6a646a12",
   "metadata": {},
   "source": [
    "##### RON"
   ]
  },
  {
   "cell_type": "code",
   "execution_count": 9,
   "id": "418d8441",
   "metadata": {},
   "outputs": [
    {
     "data": {
      "text/html": [
       "<div>\n",
       "<style scoped>\n",
       "    .dataframe tbody tr th:only-of-type {\n",
       "        vertical-align: middle;\n",
       "    }\n",
       "\n",
       "    .dataframe tbody tr th {\n",
       "        vertical-align: top;\n",
       "    }\n",
       "\n",
       "    .dataframe thead th {\n",
       "        text-align: right;\n",
       "    }\n",
       "</style>\n",
       "<table border=\"1\" class=\"dataframe\">\n",
       "  <thead>\n",
       "    <tr style=\"text-align: right;\">\n",
       "      <th></th>\n",
       "      <th>CM1</th>\n",
       "      <th>CM2</th>\n",
       "      <th>CM3</th>\n",
       "      <th>CM4</th>\n",
       "      <th>CM5</th>\n",
       "      <th>CM6</th>\n",
       "    </tr>\n",
       "  </thead>\n",
       "  <tbody>\n",
       "    <tr>\n",
       "      <th>SUL</th>\n",
       "      <td>0.04</td>\n",
       "      <td>0.04</td>\n",
       "      <td>0.04</td>\n",
       "      <td>0.001</td>\n",
       "      <td>0.001</td>\n",
       "      <td>0.001</td>\n",
       "    </tr>\n",
       "    <tr>\n",
       "      <th>RON</th>\n",
       "      <td>89.50</td>\n",
       "      <td>93.20</td>\n",
       "      <td>89.80</td>\n",
       "      <td>54.800</td>\n",
       "      <td>98.500</td>\n",
       "      <td>114.000</td>\n",
       "    </tr>\n",
       "    <tr>\n",
       "      <th>DON</th>\n",
       "      <td>84.25</td>\n",
       "      <td>87.10</td>\n",
       "      <td>84.90</td>\n",
       "      <td>50.000</td>\n",
       "      <td>93.000</td>\n",
       "      <td>107.000</td>\n",
       "    </tr>\n",
       "    <tr>\n",
       "      <th>ARW</th>\n",
       "      <td>12.70</td>\n",
       "      <td>21.40</td>\n",
       "      <td>13.00</td>\n",
       "      <td>0.050</td>\n",
       "      <td>70.000</td>\n",
       "      <td>0.000</td>\n",
       "    </tr>\n",
       "    <tr>\n",
       "      <th>OLE</th>\n",
       "      <td>39.20</td>\n",
       "      <td>32.40</td>\n",
       "      <td>39.00</td>\n",
       "      <td>0.000</td>\n",
       "      <td>0.000</td>\n",
       "      <td>0.000</td>\n",
       "    </tr>\n",
       "  </tbody>\n",
       "</table>\n",
       "</div>"
      ],
      "text/plain": [
       "       CM1    CM2    CM3     CM4     CM5      CM6\n",
       "SUL   0.04   0.04   0.04   0.001   0.001    0.001\n",
       "RON  89.50  93.20  89.80  54.800  98.500  114.000\n",
       "DON  84.25  87.10  84.90  50.000  93.000  107.000\n",
       "ARW  12.70  21.40  13.00   0.050  70.000    0.000\n",
       "OLE  39.20  32.40  39.00   0.000   0.000    0.000"
      ]
     },
     "execution_count": 9,
     "metadata": {},
     "output_type": "execute_result"
    }
   ],
   "source": [
    "# TODO: 这里可以添加一些重点突出RON\n",
    "pd.DataFrame(ex_data.Q)"
   ]
  },
  {
   "cell_type": "code",
   "execution_count": 10,
   "id": "b3900453",
   "metadata": {},
   "outputs": [
    {
     "data": {
      "text/html": [
       "<div>\n",
       "<style scoped>\n",
       "    .dataframe tbody tr th:only-of-type {\n",
       "        vertical-align: middle;\n",
       "    }\n",
       "\n",
       "    .dataframe tbody tr th {\n",
       "        vertical-align: top;\n",
       "    }\n",
       "\n",
       "    .dataframe thead th {\n",
       "        text-align: right;\n",
       "    }\n",
       "</style>\n",
       "<table border=\"1\" class=\"dataframe\">\n",
       "  <thead>\n",
       "    <tr style=\"text-align: right;\">\n",
       "      <th></th>\n",
       "      <th>G90</th>\n",
       "      <th>G93</th>\n",
       "      <th>G97</th>\n",
       "    </tr>\n",
       "  </thead>\n",
       "  <tbody>\n",
       "    <tr>\n",
       "      <th>SUL</th>\n",
       "      <td>0.0</td>\n",
       "      <td>0.0</td>\n",
       "      <td>0.0</td>\n",
       "    </tr>\n",
       "    <tr>\n",
       "      <th>RON</th>\n",
       "      <td>90.1</td>\n",
       "      <td>93.1</td>\n",
       "      <td>97.1</td>\n",
       "    </tr>\n",
       "    <tr>\n",
       "      <th>DON</th>\n",
       "      <td>85.1</td>\n",
       "      <td>88.1</td>\n",
       "      <td>92.1</td>\n",
       "    </tr>\n",
       "    <tr>\n",
       "      <th>OLE</th>\n",
       "      <td>0.0</td>\n",
       "      <td>0.0</td>\n",
       "      <td>0.0</td>\n",
       "    </tr>\n",
       "    <tr>\n",
       "      <th>ARW</th>\n",
       "      <td>0.0</td>\n",
       "      <td>0.0</td>\n",
       "      <td>0.0</td>\n",
       "    </tr>\n",
       "  </tbody>\n",
       "</table>\n",
       "</div>"
      ],
      "text/plain": [
       "      G90   G93   G97\n",
       "SUL   0.0   0.0   0.0\n",
       "RON  90.1  93.1  97.1\n",
       "DON  85.1  88.1  92.1\n",
       "OLE   0.0   0.0   0.0\n",
       "ARW   0.0   0.0   0.0"
      ]
     },
     "execution_count": 10,
     "metadata": {},
     "output_type": "execute_result"
    }
   ],
   "source": [
    "pd.DataFrame(ex_data.Pmin)"
   ]
  },
  {
   "cell_type": "markdown",
   "id": "09beb4b9",
   "metadata": {},
   "source": [
    "CM2的辛烷值(RON)相对来说高一点，希望能把CM2尽量调入到G97"
   ]
  },
  {
   "cell_type": "markdown",
   "id": "2e905d58",
   "metadata": {},
   "source": [
    "#### 修改条件，找到更合理的解\n",
    "\n",
    "1. 奖励CM2调入到G97的情况，即目标函数加权重，有可能造经济损失(目标函数变小)\n",
    "2. 限制CM2调入到G97的量，即限制约束，属于硬约束，有可能使模型不可行\n",
    "3. 测试CM2调入到G97的最大量，即不考虑经济效益的条件下，满足模型可行的同时最大化CM2对G97的调入量"
   ]
  },
  {
   "cell_type": "markdown",
   "id": "36a60a99",
   "metadata": {},
   "source": [
    "##### 奖励模型"
   ]
  },
  {
   "cell_type": "code",
   "execution_count": 11,
   "id": "ac64aa55",
   "metadata": {},
   "outputs": [],
   "source": [
    "reward_model = Planning(ex_data)"
   ]
  },
  {
   "cell_type": "code",
   "execution_count": 12,
   "id": "11ef56f3",
   "metadata": {},
   "outputs": [],
   "source": [
    "reward_obj = reward_model.b[\"CM2\",\"G97\"] * 10"
   ]
  },
  {
   "cell_type": "code",
   "execution_count": 13,
   "id": "fabf0a52",
   "metadata": {},
   "outputs": [],
   "source": [
    "obj = reward_model.model.getObjective() + reward_obj"
   ]
  },
  {
   "cell_type": "code",
   "execution_count": 14,
   "id": "36f1ee66",
   "metadata": {},
   "outputs": [],
   "source": [
    "reward_model.model.setObjective(obj,\"maximize\")"
   ]
  },
  {
   "cell_type": "code",
   "execution_count": 15,
   "id": "db56e233",
   "metadata": {},
   "outputs": [],
   "source": [
    "reward_results = reward_model.solve()"
   ]
  },
  {
   "cell_type": "code",
   "execution_count": 16,
   "id": "f11b4856",
   "metadata": {},
   "outputs": [
    {
     "name": "stdout",
     "output_type": "stream",
     "text": [
      "目标值: 12764.725213716334\n",
      "调合配方：\n",
      "          G90       G93       G97\n",
      "CM1       0.0     2.835       0.0\n",
      "CM2  0.856037       0.0  1.348963\n",
      "CM3  4.074948  0.230052       0.0\n",
      "CM4  0.584705  0.063496       0.0\n",
      "CM5   2.48431  2.871452  0.044238\n",
      "CM6       0.0       0.0      0.45\n",
      "产品物性\n",
      "           G90        G93        G97\n",
      "SUL   0.025039   0.020923   0.029542\n",
      "RON   90.30742  93.451462  98.405326\n",
      "DON       85.1       88.1       92.1\n",
      "ARW  30.653057       40.0  17.341821\n",
      "OLE  23.332323  20.017336  23.712228\n"
     ]
    }
   ],
   "source": [
    "print(\"目标值:\", reward_results[\"目标值\"])\n",
    "print(\"调合配方：\")\n",
    "print(reward_results[\"调合配方\"])\n",
    "print(\"产品物性\")\n",
    "print(reward_results[\"产品物性\"])"
   ]
  },
  {
   "cell_type": "markdown",
   "id": "ac2da7c0",
   "metadata": {},
   "source": [
    "##### 硬约束模型"
   ]
  },
  {
   "cell_type": "code",
   "execution_count": 29,
   "id": "0815fdea",
   "metadata": {},
   "outputs": [],
   "source": [
    "hard_model = Planning(ex_data)"
   ]
  },
  {
   "cell_type": "code",
   "execution_count": 30,
   "id": "919b795c",
   "metadata": {},
   "outputs": [
    {
     "data": {
      "text/plain": [
       "c40"
      ]
     },
     "execution_count": 30,
     "metadata": {},
     "output_type": "execute_result"
    }
   ],
   "source": [
    "hard_model.model.addCons(hard_model.b[\"CM2\",\"G97\"] >= 1.34)             # 这边要调右端项"
   ]
  },
  {
   "cell_type": "code",
   "execution_count": 31,
   "id": "d9f225c5",
   "metadata": {},
   "outputs": [],
   "source": [
    "hard_results = hard_model.solve()"
   ]
  },
  {
   "cell_type": "code",
   "execution_count": 32,
   "id": "602d9a14",
   "metadata": {},
   "outputs": [
    {
     "name": "stdout",
     "output_type": "stream",
     "text": [
      "目标值: 12751.23558551069\n",
      "调合配方：\n",
      "          G90       G93       G97\n",
      "CM1     2.835       0.0       0.0\n",
      "CM2       0.0     0.865      1.34\n",
      "CM3  2.058783  2.246217       0.0\n",
      "CM4   0.50629   0.14191       0.0\n",
      "CM5   2.59615  2.746873  0.056978\n",
      "CM6  0.003777       0.0  0.446223\n",
      "产品物性\n",
      "           G90        G93        G97\n",
      "SUL   0.024857   0.021223   0.029353\n",
      "RON  90.313405  93.445322  98.399335\n",
      "DON       85.1       88.1       92.1\n",
      "ARW  30.565557       40.0  17.721593\n",
      "OLE  23.928066  19.271411  23.554678\n"
     ]
    }
   ],
   "source": [
    "print(\"目标值:\", hard_results[\"目标值\"])\n",
    "print(\"调合配方：\")\n",
    "print(hard_results[\"调合配方\"])\n",
    "print(\"产品物性\")\n",
    "print(hard_results[\"产品物性\"])"
   ]
  },
  {
   "cell_type": "markdown",
   "id": "ecfb2a6e",
   "metadata": {},
   "source": [
    "#### 软约束模型"
   ]
  },
  {
   "cell_type": "code",
   "execution_count": 33,
   "id": "d154cc4d",
   "metadata": {},
   "outputs": [],
   "source": [
    "soft_model = Planning(ex_data)"
   ]
  },
  {
   "cell_type": "code",
   "execution_count": 34,
   "id": "62cecc8f",
   "metadata": {},
   "outputs": [],
   "source": [
    "soft_obj = soft_model.b[\"CM2\",\"G97\"]\n",
    "soft_model.model.setObjective(soft_obj,\"maximize\")"
   ]
  },
  {
   "cell_type": "code",
   "execution_count": 35,
   "id": "652a89c3",
   "metadata": {},
   "outputs": [],
   "source": [
    "soft_results = soft_model.solve()"
   ]
  },
  {
   "cell_type": "code",
   "execution_count": 36,
   "id": "1aebdf79",
   "metadata": {},
   "outputs": [
    {
     "name": "stdout",
     "output_type": "stream",
     "text": [
      "目标值: 1.3489628205644355\n",
      "调合配方：\n",
      "          G90       G93       G97\n",
      "CM1     2.835       0.0       0.0\n",
      "CM2       0.0  0.856037  1.348963\n",
      "CM3  1.298904  3.006096       0.0\n",
      "CM4  0.648201       0.0       0.0\n",
      "CM5  3.217896  2.137866  0.044238\n",
      "CM6       0.0       0.0      0.45\n",
      "产品物性\n",
      "           G90        G93        G97\n",
      "SUL   0.021153   0.026104   0.029542\n",
      "RON  90.357271  93.384994  98.405326\n",
      "DON       85.1       88.1       92.1\n",
      "ARW  34.771919  34.508183  17.341821\n",
      "OLE  20.223655  24.162227  23.712228\n"
     ]
    }
   ],
   "source": [
    "print(\"目标值:\", soft_results[\"目标值\"])\n",
    "print(\"调合配方：\")\n",
    "print(soft_results[\"调合配方\"])\n",
    "print(\"产品物性\")\n",
    "print(soft_results[\"产品物性\"])"
   ]
  },
  {
   "cell_type": "code",
   "execution_count": null,
   "id": "0734078f",
   "metadata": {},
   "outputs": [],
   "source": []
  }
 ],
 "metadata": {
  "kernelspec": {
   "display_name": "Python 3 (ipykernel)",
   "language": "python",
   "name": "python3"
  },
  "language_info": {
   "codemirror_mode": {
    "name": "ipython",
    "version": 3
   },
   "file_extension": ".py",
   "mimetype": "text/x-python",
   "name": "python",
   "nbconvert_exporter": "python",
   "pygments_lexer": "ipython3",
   "version": "3.10.11"
  }
 },
 "nbformat": 4,
 "nbformat_minor": 5
}
